{
 "cells": [
  {
   "cell_type": "markdown",
   "id": "54498800",
   "metadata": {},
   "source": [
    "# Checks data for completeness:\n",
    "## Given file is checked for how many columns are missing."
   ]
  },
  {
   "cell_type": "code",
   "execution_count": null,
   "id": "777c89a3",
   "metadata": {},
   "outputs": [],
   "source": [
    "import pandas as pd"
   ]
  },
  {
   "cell_type": "code",
   "execution_count": 3,
   "id": "f58146b7",
   "metadata": {},
   "outputs": [],
   "source": [
    "data = pd.read_csv('../january/2020-01-01.csv', sep=',')\n",
    "pd.set_option('display.max_columns', None)"
   ]
  },
  {
   "cell_type": "code",
   "execution_count": 4,
   "id": "b7238e7b",
   "metadata": {},
   "outputs": [
    {
     "name": "stdout",
     "output_type": "stream",
     "text": [
      "Unnamed: 0                    0\n",
      "VendorID                      0\n",
      "tpep_pickup_datetime          0\n",
      "tpep_dropoff_datetime         0\n",
      "passenger_count             855\n",
      "trip_distance                 0\n",
      "RatecodeID                  855\n",
      "store_and_fwd_flag          855\n",
      "PULocationID                  0\n",
      "DOLocationID                  0\n",
      "payment_type                  0\n",
      "fare_amount                   0\n",
      "extra                         0\n",
      "mta_tax                       0\n",
      "tip_amount                    0\n",
      "tolls_amount                  0\n",
      "improvement_surcharge         0\n",
      "total_amount                  0\n",
      "congestion_surcharge        855\n",
      "airport_fee              168258\n",
      "dtype: int64\n"
     ]
    }
   ],
   "source": [
    "print(data.isna().sum())"
   ]
  },
  {
   "cell_type": "markdown",
   "id": "81044020",
   "metadata": {},
   "source": [
    "# Checks data for validity: (stores invalid dates seperately)"
   ]
  },
  {
   "cell_type": "code",
   "execution_count": null,
   "id": "a567ce62",
   "metadata": {},
   "outputs": [],
   "source": [
    "with open(main_file, \"rt\") as fp:\n",
    "    root = csv.reader(fp, delimiter=\",\")\n",
    "    result = collections.defaultdict(list)\n",
    "    invalid = collections.defaultdict(list)\n",
    "    next(root)\n",
    "    for row in root:\n",
    "        date = row[3].split(\" \")\n",
    "        if date[0].startswith(choose_filter_date + \"-\"):  # Choose_filter_date for when we want february f.e.\n",
    "            result[date[0]].append(row)\n",
    "        else:\n",
    "            invalid[date[0]].append(row)"
   ]
  },
  {
   "cell_type": "code",
   "execution_count": null,
   "id": "766441f4",
   "metadata": {},
   "outputs": [],
   "source": []
  }
 ],
 "metadata": {
  "kernelspec": {
   "display_name": "Python 3 (ipykernel)",
   "language": "python",
   "name": "python3"
  },
  "language_info": {
   "codemirror_mode": {
    "name": "ipython",
    "version": 3
   },
   "file_extension": ".py",
   "mimetype": "text/x-python",
   "name": "python",
   "nbconvert_exporter": "python",
   "pygments_lexer": "ipython3",
   "version": "3.10.6"
  }
 },
 "nbformat": 4,
 "nbformat_minor": 5
}
